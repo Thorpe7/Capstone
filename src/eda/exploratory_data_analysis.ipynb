{
 "cells": [
  {
   "cell_type": "markdown",
   "metadata": {},
   "source": [
    "# Exploratory Data Analysis"
   ]
  },
  {
   "cell_type": "markdown",
   "metadata": {},
   "source": [
    "### Module imports and dataset loading"
   ]
  },
  {
   "cell_type": "code",
   "execution_count": 29,
   "metadata": {},
   "outputs": [],
   "source": [
    "import pandas as pd\n",
    "import matplotlib.pyplot as plt\n",
    "import seaborn as sns\n",
    "from scipy.stats import shapiro, f_oneway\n",
    "from itertools import combinations\n",
    "\n",
    "training_data = pd.read_csv('/home/thorpe/git_repos/Capstone/results/eda/training/image_attributes.csv')\n",
    "testing_data = pd.read_csv('/home/thorpe/git_repos/Capstone/results/eda/testing/image_attributes.csv')"
   ]
  },
  {
   "cell_type": "markdown",
   "metadata": {},
   "source": [
    "### Dataset & Class counts"
   ]
  },
  {
   "cell_type": "code",
   "execution_count": 6,
   "metadata": {},
   "outputs": [],
   "source": [
    "# Total counts for each dataset\n",
    "total_training_count = len(training_data)\n",
    "total_testing_count = len(testing_data)\n",
    "\n",
    "# Total counts for each class w/ respect to each dataset\n",
    "training_class_counts = training_data['class'].value_counts()\n",
    "testing_class_counts = testing_data['class'].value_counts()\n"
   ]
  },
  {
   "cell_type": "code",
   "execution_count": 10,
   "metadata": {},
   "outputs": [
    {
     "name": "stdout",
     "output_type": "stream",
     "text": [
      "Number of Training Images: 5503\n",
      "Number of Testing Images: 1281\n",
      "\n",
      "Number of Images in each class (Training):\n",
      "class\n",
      "pituitary     1445\n",
      "notumor       1404\n",
      "meningioma    1333\n",
      "glioma        1321\n",
      "Name: count, dtype: int64\n",
      "\n",
      "Number of Images in each class (Testing):\n",
      "class\n",
      "notumor       381\n",
      "meningioma    301\n",
      "pituitary     300\n",
      "glioma        299\n",
      "Name: count, dtype: int64\n"
     ]
    }
   ],
   "source": [
    "# Displaying counts\n",
    "print(f'Number of Training Images: {total_training_count}')\n",
    "print(f'Number of Testing Images: {total_testing_count}\\n')\n",
    "print(f'Number of Images in each class (Training):\\n{training_class_counts}\\n')\n",
    "print(f'Number of Images in each class (Testing):\\n{testing_class_counts}')\n"
   ]
  },
  {
   "cell_type": "markdown",
   "metadata": {},
   "source": [
    "## Checking Normality of Data"
   ]
  },
  {
   "cell_type": "markdown",
   "metadata": {},
   "source": [
    "### Training Dataset"
   ]
  },
  {
   "cell_type": "code",
   "execution_count": 24,
   "metadata": {},
   "outputs": [
    {
     "name": "stderr",
     "output_type": "stream",
     "text": [
      "/home/thorpe/.pyenv/versions/3.9.18/envs/resnet50/lib/python3.9/site-packages/scipy/stats/_morestats.py:1800: UserWarning: p-value may not be accurate for N > 5000.\n",
      "  warnings.warn(\"p-value may not be accurate for N > 5000.\")\n"
     ]
    }
   ],
   "source": [
    "# Check normality for each attribute overall\n",
    "overall_m_stat, overall_m_p = shapiro(training_data['mean_intensity'])\n",
    "overall_s_stat, overall_s_p = shapiro(training_data['std_intensity'])\n",
    "\n",
    "# Check normality for each attribute w/ respect to each class\n",
    "normality_dict = {}\n",
    "class_names = training_data['class'].unique()\n",
    "for name in class_names:\n",
    "    m_stat, m_p = shapiro(training_data[training_data['class'] == name]['mean_intensity'])\n",
    "    s_stat, s_p = shapiro(training_data[training_data['class'] == name]['std_intensity'])\n",
    "\n",
    "    normality_dict[f\"m_{name}\"] = {'stat': m_stat, 'p': m_p}\n",
    "    normality_dict[f\"s_{name}\"] = {'stat': s_stat, 'p': s_p}\n",
    "\n"
   ]
  },
  {
   "cell_type": "code",
   "execution_count": 25,
   "metadata": {},
   "outputs": [
    {
     "name": "stdout",
     "output_type": "stream",
     "text": [
      "Shapiro-Wilk Test for training data overall mean_intensity: Statistics=0.9148577451705933, p=0.0\n",
      "Shapiro-Wilk Test for training data overall std_intensity: Statistics=0.8564019799232483, p=0.0\n",
      "\n",
      "Shapiro-Wilk Test for training data m_pituitary: Statistics=0.9879189133644104, p=1.3741778825959727e-09\n",
      "Shapiro-Wilk Test for training data s_pituitary: Statistics=0.9865121245384216, p=2.4424109956733275e-10\n",
      "Shapiro-Wilk Test for training data m_meningioma: Statistics=0.79588383436203, p=5.944533974978323e-38\n",
      "Shapiro-Wilk Test for training data s_meningioma: Statistics=0.8516072034835815, p=1.2929374403999653e-33\n",
      "Shapiro-Wilk Test for training data m_notumor: Statistics=0.9744928479194641, p=4.619278507741803e-15\n",
      "Shapiro-Wilk Test for training data s_notumor: Statistics=0.9785709381103516, p=1.3156458615690841e-13\n",
      "Shapiro-Wilk Test for training data m_glioma: Statistics=0.9729107022285461, p=4.8723448473270755e-15\n",
      "Shapiro-Wilk Test for training data s_glioma: Statistics=0.9990653395652771, p=0.7543073892593384\n"
     ]
    }
   ],
   "source": [
    "print(f'Shapiro-Wilk Test for training data overall mean_intensity: Statistics={overall_m_stat}, p={overall_m_p}')\n",
    "print(f'Shapiro-Wilk Test for training data overall std_intensity: Statistics={overall_s_stat}, p={overall_s_p}\\n')\n",
    "\n",
    "for key, value in normality_dict.items():\n",
    "    print(f'Shapiro-Wilk Test for training data {key}: Statistics={value[\"stat\"]}, p={value[\"p\"]}')\n"
   ]
  },
  {
   "cell_type": "markdown",
   "metadata": {},
   "source": [
    "### Testing Dataset"
   ]
  },
  {
   "cell_type": "code",
   "execution_count": 26,
   "metadata": {},
   "outputs": [],
   "source": [
    "# Check normality for each attribute overall\n",
    "overall_m_stat, overall_m_p = shapiro(testing_data['mean_intensity'])\n",
    "overall_s_stat, overall_s_p = shapiro(testing_data['std_intensity'])\n",
    "\n",
    "# Check normality for each attribute w/ respect to each class\n",
    "normality_dict = {}\n",
    "class_names = testing_data['class'].unique()\n",
    "for name in class_names:\n",
    "    m_stat, m_p = shapiro(testing_data[testing_data['class'] == name]['mean_intensity'])\n",
    "    s_stat, s_p = shapiro(testing_data[testing_data['class'] == name]['std_intensity'])\n",
    "\n",
    "    normality_dict[f\"m_{name}\"] = {'stat': m_stat, 'p': m_p}\n",
    "    normality_dict[f\"s_{name}\"] = {'stat': s_stat, 'p': s_p}"
   ]
  },
  {
   "cell_type": "code",
   "execution_count": 23,
   "metadata": {},
   "outputs": [
    {
     "name": "stdout",
     "output_type": "stream",
     "text": [
      "Shapiro-Wilk Test for testing data overall mean_intensity: Statistics=0.9061893224716187, p=2.389370703951014e-27\n",
      "Shapiro-Wilk Test for testing data overall std_intensity: Statistics=0.88349848985672, p=5.7463840095314664e-30\n",
      "\n",
      "Shapiro-Wilk Test for testing data m_pituitary: Statistics=0.9957460761070251, p=0.5913278460502625\n",
      "Shapiro-Wilk Test for testing data s_pituitary: Statistics=0.9844411611557007, p=0.00245380075648427\n",
      "Shapiro-Wilk Test for testing data m_meningioma: Statistics=0.8857771158218384, p=3.175270376493122e-14\n",
      "Shapiro-Wilk Test for testing data s_meningioma: Statistics=0.9112392067909241, p=2.4484537661240147e-12\n",
      "Shapiro-Wilk Test for testing data m_notumor: Statistics=0.9624143242835999, p=2.602095960924089e-08\n",
      "Shapiro-Wilk Test for testing data s_notumor: Statistics=0.9635683298110962, p=3.933421766078027e-08\n",
      "Shapiro-Wilk Test for testing data m_glioma: Statistics=0.9806674122810364, p=0.0004577030485961586\n",
      "Shapiro-Wilk Test for testing data s_glioma: Statistics=0.9957830309867859, p=0.6019368171691895\n"
     ]
    }
   ],
   "source": [
    "# Display results\n",
    "print(f'Shapiro-Wilk Test for testing data overall mean_intensity: Statistics={overall_m_stat}, p={overall_m_p}')\n",
    "print(f'Shapiro-Wilk Test for testing data overall std_intensity: Statistics={overall_s_stat}, p={overall_s_p}\\n')\n",
    "\n",
    "for key, value in normality_dict.items():\n",
    "    print(f'Shapiro-Wilk Test for testing data {key}: Statistics={value[\"stat\"]}, p={value[\"p\"]}')\n"
   ]
  },
  {
   "cell_type": "markdown",
   "metadata": {},
   "source": [
    "### General Observation\n",
    "* Metric of interest predominantly mean_intensity\n",
    "* W/in a both datasets, mean pixel intensity appears normal \n",
    "* Between classes\n",
    "  * training dataset appears mostly normal, some drift seen in meningioma\n",
    "  * testing dataset also appears mostly normally distributed except for pituitary"
   ]
  },
  {
   "cell_type": "markdown",
   "metadata": {},
   "source": [
    "## Checking Variance of data"
   ]
  },
  {
   "cell_type": "markdown",
   "metadata": {},
   "source": [
    "### Training Dataset"
   ]
  },
  {
   "cell_type": "code",
   "execution_count": 36,
   "metadata": {},
   "outputs": [],
   "source": [
    "# mean_intensity one-way ANOVA test between classes\n",
    "class_groups = training_data.groupby('class')['mean_intensity'].apply(list)\n",
    "m_anova_result = f_oneway(*class_groups)\n",
    "\n",
    "\n",
    "# std_intensity one-way ANOVA test between classes\n",
    "class_groups = training_data.groupby('class')['std_intensity'].apply(list)\n",
    "s_anova_result = f_oneway(*class_groups)"
   ]
  },
  {
   "cell_type": "code",
   "execution_count": 37,
   "metadata": {},
   "outputs": [],
   "source": [
    "# Run One-Way ANOVA between classes for mean_intensity and std_intensity\n",
    "# Get unique classes\n",
    "unique_classes = training_data['class'].unique()\n",
    "\n",
    "# Perform pair-wise ANOVA\n",
    "combinations_dict = {}\n",
    "for class1, class2 in combinations(unique_classes, 2):\n",
    "    # Extract mean_intensity for each class\n",
    "    mean_intensity_1 = training_data[training_data['class'] == class1]['mean_intensity']\n",
    "    mean_intensity_2 = training_data[training_data['class'] == class2]['mean_intensity']\n",
    "\n",
    "    # Perform ANOVA\n",
    "    anova_result = f_oneway(mean_intensity_1, mean_intensity_2)\n",
    "\n",
    "    # Store results\n",
    "    combinations_dict[f\"{class1}_{class2}\"] = {\"F-statistic\": anova_result.statistic, \"p-value\": anova_result.pvalue}    \n"
   ]
  },
  {
   "cell_type": "code",
   "execution_count": 38,
   "metadata": {},
   "outputs": [
    {
     "name": "stdout",
     "output_type": "stream",
     "text": [
      "ANOVA test result for training data mean_intensity: F_onewayResult(statistic=954.8603922925109, pvalue=0.0)\n",
      "ANOVA test result for training data std_intensity: F_onewayResult(statistic=1520.2372604081793, pvalue=0.0)\n",
      "\n",
      "ANOVA test result for pituitary vs meningioma: F-statistic = 178.8036863583316, p-value = 1.4432602523371443e-39\n",
      "ANOVA test result for pituitary vs notumor: F-statistic = 391.7666750667963, p-value = 8.460462343404986e-82\n",
      "ANOVA test result for pituitary vs glioma: F-statistic = 2669.57150045789, p-value = 0.0\n",
      "ANOVA test result for meningioma vs notumor: F-statistic = 649.7567961208529, p-value = 8.942945934898636e-129\n",
      "ANOVA test result for meningioma vs glioma: F-statistic = 548.1309399001738, p-value = 2.3906625478957854e-110\n",
      "ANOVA test result for notumor vs glioma: F-statistic = 2028.4935479985998, p-value = 0.0\n"
     ]
    }
   ],
   "source": [
    "# Display ANOVA results\n",
    "print(f\"ANOVA test result for training data mean_intensity: {m_anova_result}\")\n",
    "print(f\"ANOVA test result for training data std_intensity: {s_anova_result}\\n\")\n",
    "\n",
    "for key, value in combinations_dict.items():\n",
    "    key = key.replace('_', ' vs ')\n",
    "    print(f\"ANOVA test result for {key}: F-statistic = {value['F-statistic']}, p-value = {value['p-value']}\")\n"
   ]
  },
  {
   "cell_type": "markdown",
   "metadata": {},
   "source": [
    "### Testing Dataset"
   ]
  },
  {
   "cell_type": "code",
   "execution_count": 39,
   "metadata": {},
   "outputs": [],
   "source": [
    "# mean_intensity one-way ANOVA test between classes\n",
    "class_groups = testing_data.groupby('class')['mean_intensity'].apply(list)\n",
    "m_anova_result = f_oneway(*class_groups)\n",
    "\n",
    "\n",
    "# std_intensity one-way ANOVA test between classes\n",
    "class_groups = testing_data.groupby('class')['std_intensity'].apply(list)\n",
    "s_anova_result = f_oneway(*class_groups)"
   ]
  },
  {
   "cell_type": "code",
   "execution_count": 40,
   "metadata": {},
   "outputs": [],
   "source": [
    "# Run One-Way ANOVA between classes for mean_intensity and std_intensity\n",
    "# Get unique classes\n",
    "unique_classes = testing_data['class'].unique()\n",
    "\n",
    "# Perform pair-wise ANOVA\n",
    "combinations_dict = {}\n",
    "for class1, class2 in combinations(unique_classes, 2):\n",
    "    # Extract mean_intensity for each class\n",
    "    mean_intensity_1 = testing_data[testing_data['class'] == class1]['mean_intensity']\n",
    "    mean_intensity_2 = testing_data[testing_data['class'] == class2]['mean_intensity']\n",
    "\n",
    "    # Perform ANOVA\n",
    "    anova_result = f_oneway(mean_intensity_1, mean_intensity_2)\n",
    "\n",
    "    # Store results\n",
    "    combinations_dict[f\"{class1}_{class2}\"] = {\"F-statistic\": anova_result.statistic, \"p-value\": anova_result.pvalue}    "
   ]
  },
  {
   "cell_type": "code",
   "execution_count": 41,
   "metadata": {},
   "outputs": [
    {
     "name": "stdout",
     "output_type": "stream",
     "text": [
      "ANOVA test result for testing data mean_intensity: F_onewayResult(statistic=129.32704497873928, pvalue=3.7423410860725696e-73)\n",
      "ANOVA test result for testing data std_intensity: F_onewayResult(statistic=248.92781401730787, pvalue=3.60192511945826e-127)\n",
      "\n",
      "ANOVA test result for pituitary vs meningioma: F-statistic = 11.89317435121754, p-value = 0.0006029542956332431\n",
      "ANOVA test result for pituitary vs notumor: F-statistic = 77.20013564606398, p-value = 1.2546626848783946e-17\n",
      "ANOVA test result for pituitary vs glioma: F-statistic = 410.1587896854385, p-value = 8.154466965982369e-70\n",
      "ANOVA test result for meningioma vs notumor: F-statistic = 18.730405700754403, p-value = 1.731864550393506e-05\n",
      "ANOVA test result for meningioma vs glioma: F-statistic = 183.78840390384957, p-value = 1.0603402590044126e-36\n",
      "ANOVA test result for notumor vs glioma: F-statistic = 348.03705933077117, p-value = 5.275840157665911e-63\n"
     ]
    }
   ],
   "source": [
    "# Display ANOVA results\n",
    "print(f\"ANOVA test result for testing data mean_intensity: {m_anova_result}\")\n",
    "print(f\"ANOVA test result for testing data std_intensity: {s_anova_result}\\n\")\n",
    "\n",
    "for key, value in combinations_dict.items():\n",
    "    key = key.replace('_', ' vs ')\n",
    "    print(f\"ANOVA test result for {key}: F-statistic = {value['F-statistic']}, p-value = {value['p-value']}\")"
   ]
  },
  {
   "cell_type": "markdown",
   "metadata": {},
   "source": [
    "### General Observations\n",
    "* Looking to see if either mean_intensity or std_intensity could influence training or generalization of model\n",
    "* Training Dataset: \n",
    "  * First look shows clear indication of influence due to variance\n",
    "  * Per class inspection shows all classes have clear difference in values w/ glioma's intensity appearing as a large potential influence\n",
    "* Testing Dataset:\n",
    "  * Again shows clear difference in variation between classes\n",
    "  * glioma again appearing to have a larger score than the others. "
   ]
  },
  {
   "cell_type": "markdown",
   "metadata": {},
   "source": [
    "## Investigating Class Imbalance"
   ]
  },
  {
   "cell_type": "markdown",
   "metadata": {},
   "source": [
    "### Training Dataset"
   ]
  },
  {
   "cell_type": "code",
   "execution_count": 42,
   "metadata": {},
   "outputs": [
    {
     "data": {
      "image/png": "[encoded data removed]",
      "text/plain": [
       "<Figure size 1000x600 with 1 Axes>"
      ]
     },
     "metadata": {},
     "output_type": "display_data"
    }
   ],
   "source": [
    "# Visualize the class distribution\n",
    "plt.figure(figsize=(10, 6))\n",
    "sns.barplot(x=training_class_counts.index, y=training_class_counts.values)\n",
    "plt.xlabel('Class')\n",
    "plt.ylabel('Number of instances')\n",
    "plt.title('Class Distribution in the Dataset')\n",
    "plt.show()"
   ]
  },
  {
   "cell_type": "markdown",
   "metadata": {},
   "source": [
    "### Testing Dataset"
   ]
  },
  {
   "cell_type": "code",
   "execution_count": 43,
   "metadata": {},
   "outputs": [
    {
     "data": {
      "image/png": "[encoded data removed]",
      "text/plain": [
       "<Figure size 1000x600 with 1 Axes>"
      ]
     },
     "metadata": {},
     "output_type": "display_data"
    }
   ],
   "source": [
    "# Visualize the class distribution\n",
    "plt.figure(figsize=(10, 6))\n",
    "sns.barplot(x=testing_class_counts.index, y=testing_class_counts.values)\n",
    "plt.xlabel('Class')\n",
    "plt.ylabel('Number of instances')\n",
    "plt.title('Class Distribution in the Dataset')\n",
    "plt.show()"
   ]
  },
  {
   "cell_type": "markdown",
   "metadata": {},
   "source": [
    "### General Observations\n",
    "* Classes appear to have relatively balanced instances across both the training and testing datasets"
   ]
  },
  {
   "cell_type": "code",
   "execution_count": null,
   "metadata": {},
   "outputs": [],
   "source": []
  }
 ],
 "metadata": {
  "kernelspec": {
   "display_name": "resnet50",
   "language": "python",
   "name": "python3"
  },
  "language_info": {
   "codemirror_mode": {
    "name": "ipython",
    "version": 3
   },
   "file_extension": ".py",
   "mimetype": "text/x-python",
   "name": "python",
   "nbconvert_exporter": "python",
   "pygments_lexer": "ipython3",
   "version": "3.9.18"
  }
 },
 "nbformat": 4,
 "nbformat_minor": 2
}
